{
 "cells": [
  {
   "cell_type": "code",
   "execution_count": 116,
   "id": "a07d9cb7-5423-4747-845f-ed86d9c55aeb",
   "metadata": {},
   "outputs": [
    {
     "name": "stdout",
     "output_type": "stream",
     "text": [
      "Olá mundo\n"
     ]
    }
   ],
   "source": [
    "import random\n",
    "\n",
    "print(\"Olá mundo\")"
   ]
  },
  {
   "cell_type": "code",
   "execution_count": 2,
   "id": "ef1274ed-5865-4831-b79d-47404146aa2d",
   "metadata": {},
   "outputs": [
    {
     "data": {
      "text/plain": [
       "6"
      ]
     },
     "execution_count": 2,
     "metadata": {},
     "output_type": "execute_result"
    }
   ],
   "source": [
    "numero=1\n",
    "numero2=5\n",
    "numero+numero2"
   ]
  },
  {
   "cell_type": "code",
   "execution_count": 19,
   "id": "067a7a0c-9fe1-4a1a-8998-83e86e8c6379",
   "metadata": {},
   "outputs": [
    {
     "name": "stdin",
     "output_type": "stream",
     "text": [
      "Digite um numero:  5\n",
      "Digite o outro:  4\n",
      "Digite a operação:  +\n"
     ]
    },
    {
     "name": "stdout",
     "output_type": "stream",
     "text": [
      "9\n"
     ]
    },
    {
     "name": "stdin",
     "output_type": "stream",
     "text": [
      "Voce quer parar? Para sim digite 1, para Nao aperte 0 0\n",
      "Digite um numero:  5\n",
      "Digite o outro:  7\n",
      "Digite a operação:  -\n"
     ]
    },
    {
     "name": "stdout",
     "output_type": "stream",
     "text": [
      "-2\n"
     ]
    },
    {
     "name": "stdin",
     "output_type": "stream",
     "text": [
      "Voce quer parar? Para sim digite 1, para Nao aperte 0 0\n",
      "Digite um numero:  4\n",
      "Digite o outro:  4\n",
      "Digite a operação:  *\n"
     ]
    },
    {
     "name": "stdout",
     "output_type": "stream",
     "text": [
      "16\n"
     ]
    },
    {
     "name": "stdin",
     "output_type": "stream",
     "text": [
      "Voce quer parar? Para sim digite 1, para Nao aperte 0 1\n"
     ]
    }
   ],
   "source": [
    "\n",
    "resposta=0\n",
    "\n",
    "while resposta!=1:\n",
    "    n1=int(input(\"Digite um numero: \"))\n",
    "    n2=int(input(\"Digite o outro: \"))\n",
    "    escolha=input(\"Digite a operação: \")\n",
    "    if escolha==\"+\":\n",
    "        escolha=n1+n2\n",
    "    elif escolha==\"-\":\n",
    "        escolha=n1-n2\n",
    "    elif escolha==\"*\":\n",
    "        escolha=n1*n2\n",
    "    print(escolha)\n",
    "    resposta=int(input('Voce quer parar? Para sim digite 1, para Nao aperte 0'))\n",
    "    "
   ]
  },
  {
   "cell_type": "code",
   "execution_count": 30,
   "id": "3cf01f75-976c-4acc-a809-609337924073",
   "metadata": {},
   "outputs": [
    {
     "name": "stdin",
     "output_type": "stream",
     "text": [
      "Digite sua idade: 17\n",
      "Voce tem cnh? Sim\n"
     ]
    },
    {
     "name": "stdout",
     "output_type": "stream",
     "text": [
      "Voce esta encrencado\n"
     ]
    }
   ],
   "source": [
    "idade=int(input(\"Digite sua idade:\" ))\n",
    "cnh=str(input(\"Voce tem cnh?\"))\n",
    "if idade>=18 and cnh==\"Sim\":\n",
    "    print(\"Pode ir\")\n",
    "else: \n",
    "    print(\"Voce esta encrencado\")"
   ]
  },
  {
   "cell_type": "code",
   "execution_count": 37,
   "id": "016d985a-604a-4e7f-8ea3-44f6d831a3de",
   "metadata": {},
   "outputs": [
    {
     "name": "stdin",
     "output_type": "stream",
     "text": [
      "Qual tipo de agua voce quer? mineral\n",
      "Quantas aguas voce quer? 2\n"
     ]
    },
    {
     "name": "stdout",
     "output_type": "stream",
     "text": [
      "O valor da sua agua foi de  3.0\n"
     ]
    }
   ],
   "source": [
    "agua=str(input(\"Qual tipo de agua voce quer?\"))\n",
    "conta=0\n",
    "quantidade=int(input(\"Quantas aguas voce quer?\"))\n",
    "if agua==\"mineral\":\n",
    "    conta=1.50\n",
    "elif agua==\"com gas\":\n",
    "    conta=2.50\n",
    "print(\"O valor da sua agua foi de \",conta*quantidade)"
   ]
  },
  {
   "cell_type": "code",
   "execution_count": 61,
   "id": "0be4eae1-d6dc-4ec3-9989-1b2eae19432a",
   "metadata": {},
   "outputs": [
    {
     "name": "stdout",
     "output_type": "stream",
     "text": [
      "Sorveteria\n"
     ]
    },
    {
     "name": "stdin",
     "output_type": "stream",
     "text": [
      "Qual tipo de sorvete voce quer? Casquinha,Cascão ou de bandeija casquinha\n",
      "E qual será o sabor? chocolate\n",
      "Vai querer cobertura? Temos de caramelo,morango e sem cobertura \n"
     ]
    },
    {
     "name": "stdout",
     "output_type": "stream",
     "text": [
      "Voce pediu um sorvete de casquinha de sabor chocolate e com a cobertura de .O Valor final é de 1.0\n"
     ]
    }
   ],
   "source": [
    "print(\"Sorveteria\")\n",
    "conta=0\n",
    "sorvete=str(input(\"Qual tipo de sorvete voce quer? Casquinha,Cascão ou de bandeija\"))\n",
    "match(sorvete):\n",
    "    case \"casquinha\":\n",
    "        conta+=1.0\n",
    "    case \"cascao\":\n",
    "        conta+=2.50\n",
    "    case \"bandeija\":\n",
    "        conta+=4.0\n",
    "sabor=str(input(\"E qual será o sabor?\"))\n",
    "cobertura=str(input(\"Vai querer cobertura? Temos de caramelo,morango e sem cobertura\"))\n",
    "\n",
    "if cobertura==\"caramelo\":\n",
    "    conta+=1.50\n",
    "elif cobertura==\"morango\":\n",
    "    conta+=1.50\n",
    "elif cobertura==\"\":\n",
    "    pass\n",
    "\n",
    "print(f'Voce pediu um sorvete de {sorvete} de sabor {sabor} e com a cobertura de {cobertura}.O Valor final é de {conta}')"
   ]
  },
  {
   "cell_type": "code",
   "execution_count": 59,
   "id": "40d8d4ae-40f1-4a7e-b6f4-ea8e13af279c",
   "metadata": {},
   "outputs": [
    {
     "name": "stdin",
     "output_type": "stream",
     "text": [
      "Digite seu nome e sobrenome Joao Gui\n"
     ]
    },
    {
     "name": "stdout",
     "output_type": "stream",
     "text": [
      "Voce nao é da familia calvo\n",
      "Voce nao é da familia calvo\n"
     ]
    }
   ],
   "source": [
    "nome=str(input(\"Digite seu nome e sobrenome\"))\n",
    "lista=nome.split()\n",
    "pertence=\"\"\n",
    "for i in lista:\n",
    "    if i==\"calvo\":\n",
    "        print(\"Voce é da familia Calvo\")\n",
    "    else: \n",
    "        print(\"Voce nao é da familia calvo\")\n"
   ]
  },
  {
   "cell_type": "code",
   "execution_count": 112,
   "id": "3273ddff-8f4e-4056-84ff-78d5e3cd8321",
   "metadata": {},
   "outputs": [
    {
     "name": "stdin",
     "output_type": "stream",
     "text": [
      "Digite seu nome e sobrenome:  Calvo\n"
     ]
    },
    {
     "name": "stdout",
     "output_type": "stream",
     "text": [
      "Voce pertence a familia calvo\n"
     ]
    }
   ],
   "source": [
    "nome=str(input(\"Digite seu nome e sobrenome: \"))\n",
    "nome=nome.lower()\n",
    "if \"calvo\" in nome:\n",
    "    print(\"Voce pertence a familia calvo\")\n",
    "else:\n",
    "    print(\"Voce nao pertence a familia calvo\")"
   ]
  },
  {
   "cell_type": "code",
   "execution_count": 113,
   "id": "2ddd3b86-c7c6-42fb-b408-802ce1397aed",
   "metadata": {},
   "outputs": [
    {
     "name": "stdin",
     "output_type": "stream",
     "text": [
      "Digite seu nome e sobrenome:  Joao Gui\n"
     ]
    },
    {
     "name": "stdout",
     "output_type": "stream",
     "text": [
      "Voce nao pertence a familia Calvo ou Silva\n"
     ]
    }
   ],
   "source": [
    "nome=str(input(\"Digite seu nome e sobrenome: \"))\n",
    "nome=nome.lower()\n",
    "lista=nome.split()\n",
    "lista[-1]\n",
    "if lista[-1]==\"Calvo\" or lista[-1]==\"Silva\":\n",
    "    print(\"Voce pertence a familia \",lista[-1])\n",
    "else:\n",
    "    print(\"Voce nao pertence a familia Calvo ou Silva\")"
   ]
  },
  {
   "cell_type": "code",
   "execution_count": 117,
   "id": "42385385-f8a7-4324-a579-b71eb26aa0f4",
   "metadata": {},
   "outputs": [
    {
     "name": "stdin",
     "output_type": "stream",
     "text": [
      "Digite seu nome e sobrenome:  silva jose\n"
     ]
    },
    {
     "name": "stdout",
     "output_type": "stream",
     "text": [
      "Voce pertence a familia Calvo ou Silva\n"
     ]
    }
   ],
   "source": [
    "nome=str(input(\"Digite seu nome e sobrenome: \"))\n",
    "nome=nome.lower()\n",
    "if \"calvo\" in nome or \"silva\" in nome:\n",
    "    print(\"Voce pertence a familia Calvo ou Silva\")\n",
    "else: \n",
    "    print(\"Não pertence\")"
   ]
  },
  {
   "cell_type": "code",
   "execution_count": 76,
   "id": "7a24292c-ae22-4ae0-842a-c4b5d36ea1e1",
   "metadata": {},
   "outputs": [
    {
     "name": "stdout",
     "output_type": "stream",
     "text": [
      "1\n",
      "2\n",
      "3\n",
      "4\n",
      "5\n",
      "6\n",
      "7\n",
      "8\n",
      "9\n",
      "10\n"
     ]
    }
   ],
   "source": [
    "for i in range (1,11):\n",
    "    print(i)"
   ]
  },
  {
   "cell_type": "code",
   "execution_count": 80,
   "id": "0c340210-bd02-4fd5-9469-46eb9910dc16",
   "metadata": {},
   "outputs": [
    {
     "name": "stdout",
     "output_type": "stream",
     "text": [
      "0\n",
      "1\n",
      "2\n",
      "3\n",
      "4\n",
      "5\n",
      "6\n",
      "7\n",
      "8\n",
      "9\n",
      "10\n"
     ]
    }
   ],
   "source": [
    "i=0\n",
    "while i<=10:\n",
    "    print(i)\n",
    "    i+=1"
   ]
  },
  {
   "cell_type": "code",
   "execution_count": 82,
   "id": "3099fdd7-f2e3-44f6-aa34-fbb5d9e5a25b",
   "metadata": {},
   "outputs": [
    {
     "name": "stdout",
     "output_type": "stream",
     "text": [
      "0\n",
      "2\n",
      "4\n",
      "6\n",
      "8\n",
      "10\n",
      "12\n",
      "14\n"
     ]
    }
   ],
   "source": [
    "i=0\n",
    "while i<=15:\n",
    "    if i%2==0:\n",
    "        print(i)\n",
    "    i+=1"
   ]
  },
  {
   "cell_type": "code",
   "execution_count": 88,
   "id": "e2fef59e-86ec-4c20-9446-98c0f7d02ae7",
   "metadata": {},
   "outputs": [
    {
     "name": "stdin",
     "output_type": "stream",
     "text": [
      "O que voce quer comprar? abacate\n"
     ]
    },
    {
     "name": "stdout",
     "output_type": "stream",
     "text": [
      "O item nao esta na lista\n"
     ]
    }
   ],
   "source": [
    "comprar=str(input(\"O que voce quer comprar?\"))\n",
    "lista=['laranja','cerveja','miojo','carvao','picanha']\n",
    "\n",
    "if comprar in lista:\n",
    "    print(f'Existe {comprar} na lista de compras')\n",
    "else:\n",
    "    print(\"O item nao esta na lista\")\n",
    "    "
   ]
  },
  {
   "cell_type": "code",
   "execution_count": 101,
   "id": "9b157dd0-e0e9-4d36-82b1-0725fa7f6339",
   "metadata": {},
   "outputs": [
    {
     "name": "stdin",
     "output_type": "stream",
     "text": [
      "Digite algo que eu  vou contar os A:  AAAAAAaaaaaaaaaaaaaaaa\n"
     ]
    },
    {
     "name": "stdout",
     "output_type": "stream",
     "text": [
      "22\n"
     ]
    }
   ],
   "source": [
    "palavra=str(input(\"Digite algo que eu  vou contar os A: \"))\n",
    "qtdA=0\n",
    "contagem=0\n",
    "for contagem in palavra:\n",
    "    if contagem==\"A\" or contagem==\"a\":\n",
    "        qtdA+=1\n",
    "print(qtdA)"
   ]
  },
  {
   "cell_type": "code",
   "execution_count": 9,
   "id": "d3ea351d-ddee-4b04-a765-4d08d964195c",
   "metadata": {},
   "outputs": [
    {
     "name": "stdin",
     "output_type": "stream",
     "text": [
      "Digite uma altura:  1.8\n"
     ]
    },
    {
     "name": "stdout",
     "output_type": "stream",
     "text": [
      "[1.8]\n"
     ]
    },
    {
     "name": "stdin",
     "output_type": "stream",
     "text": [
      "Digite uma altura:  1.2\n"
     ]
    },
    {
     "name": "stdout",
     "output_type": "stream",
     "text": [
      "[1.8, 1.2]\n"
     ]
    },
    {
     "name": "stdin",
     "output_type": "stream",
     "text": [
      "Digite uma altura:  1.8\n"
     ]
    },
    {
     "name": "stdout",
     "output_type": "stream",
     "text": [
      "[1.8, 1.2, 1.8]\n"
     ]
    },
    {
     "name": "stdin",
     "output_type": "stream",
     "text": [
      "Digite uma altura:  1.2\n"
     ]
    },
    {
     "name": "stdout",
     "output_type": "stream",
     "text": [
      "[1.8, 1.2, 1.8, 1.2]\n",
      "A soma das alturas foi de 6.0\n"
     ]
    }
   ],
   "source": [
    "i=1\n",
    "lista=[]\n",
    "soma=0\n",
    "for i in range(1,5):\n",
    "    altura=float(input(\"Digite uma altura: \"))\n",
    "    lista.append(altura)\n",
    "    print(lista)\n",
    "\n",
    "soma=sum(lista)\n",
    "print(f'A soma das alturas foi de {soma}')"
   ]
  },
  {
   "cell_type": "code",
   "execution_count": null,
   "id": "a7d27503-f4a1-45dd-8f0c-8bbcfd000e8d",
   "metadata": {},
   "outputs": [],
   "source": [
    "soma=0\n",
    "while True:\n",
    "    saldo=input(\"Digite um valor: \")\n",
    "    if saldo==\"\":\n",
    "        break\n",
    "     \n",
    "    soma+= float(saldo)\n",
    "print(soma)"
   ]
  },
  {
   "cell_type": "code",
   "execution_count": 6,
   "id": "13475e3b-15f3-4756-a20f-334f2245c269",
   "metadata": {},
   "outputs": [
    {
     "name": "stdin",
     "output_type": "stream",
     "text": [
      "Digite seu nome Joao\n",
      "Digite sua idade:  19\n"
     ]
    },
    {
     "data": {
      "text/plain": [
       "{'nome': 'Joao', 'idade': 19}"
      ]
     },
     "execution_count": 6,
     "metadata": {},
     "output_type": "execute_result"
    }
   ],
   "source": [
    "nome=str(input(\"Digite seu nome\"))\n",
    "idade=int(input(\"Digite sua idade: \"))\n",
    "dicionario={'nome':nome,\n",
    "           'idade':idade}\n",
    "dicionario"
   ]
  },
  {
   "cell_type": "code",
   "execution_count": 17,
   "id": "20b06094-ab68-4c26-9d3c-837a531a8d6a",
   "metadata": {},
   "outputs": [
    {
     "name": "stdout",
     "output_type": "stream",
     "text": [
      "[10, 20]\n",
      "120\n",
      "n\n"
     ]
    }
   ],
   "source": [
    "lista=[120,\"Python\",120.01,\"asw\",False,[10,20]]\n",
    "ultimoc=lista[1]\n",
    "print(lista[-1])\n",
    "print(lista[0])\n",
    "print(ultimoc[-1])\n"
   ]
  },
  {
   "cell_type": "code",
   "execution_count": 19,
   "id": "ff816e90-5c92-4bee-b2f4-64d5073adf08",
   "metadata": {},
   "outputs": [
    {
     "name": "stdin",
     "output_type": "stream",
     "text": [
      "Digite uma palavra:  Joao\n",
      "Digite outra:  Gui\n"
     ]
    },
    {
     "name": "stdout",
     "output_type": "stream",
     "text": [
      "JoaoGui\n"
     ]
    }
   ],
   "source": [
    "s1=str(input(\"Digite uma palavra: \"))\n",
    "s2=str(input(\"Digite outra: \"))\n",
    "print(s1+s2)"
   ]
  },
  {
   "cell_type": "code",
   "execution_count": 31,
   "id": "cf7c23bc-84fa-4f12-af26-113014e10bdb",
   "metadata": {},
   "outputs": [
    {
     "name": "stdin",
     "output_type": "stream",
     "text": [
      "Escolha uma fruta:  banana\n"
     ]
    }
   ],
   "source": [
    "frutas={'maça':1.50,\n",
    "       'banana':2.75,\n",
    "       'uva':1.90,\n",
    "       'pera': 1.25,\n",
    "       'Laranja': 0.65,\n",
    "       'Limão': 1.25\n",
    "}\n",
    "escolher=str(input(\"Escolha uma fruta: \"))\n",
    "for i in frutas:\n",
    "    if escolher==frutas[i]:\n",
    "        print(frutas[escolher:i])\n",
    "    \n",
    "       \n",
    "        "
   ]
  },
  {
   "cell_type": "code",
   "execution_count": 21,
   "id": "772719c0-88a2-4529-a835-df14f57a3b7d",
   "metadata": {},
   "outputs": [
    {
     "ename": "IndexError",
     "evalue": "list index out of range",
     "output_type": "error",
     "traceback": [
      "\u001b[1;31m---------------------------------------------------------------------------\u001b[0m",
      "\u001b[1;31mIndexError\u001b[0m                                Traceback (most recent call last)",
      "Cell \u001b[1;32mIn[21], line 6\u001b[0m\n\u001b[0;32m      4\u001b[0m media\u001b[38;5;241m=\u001b[39m\u001b[38;5;241m0\u001b[39m\n\u001b[0;32m      5\u001b[0m \u001b[38;5;28;01mfor\u001b[39;00m i \u001b[38;5;129;01min\u001b[39;00m \u001b[38;5;28mrange\u001b[39m (\u001b[38;5;241m1\u001b[39m,\u001b[38;5;241m5\u001b[39m):\n\u001b[1;32m----> 6\u001b[0m     menor\u001b[38;5;241m=\u001b[39mnotasAlunos[\u001b[38;5;241m0\u001b[39m]\n\u001b[0;32m      7\u001b[0m     nota\u001b[38;5;241m=\u001b[39m\u001b[38;5;28mfloat\u001b[39m(\u001b[38;5;28minput\u001b[39m(\u001b[38;5;124m\"\u001b[39m\u001b[38;5;124mDigite as notas do aluno: \u001b[39m\u001b[38;5;124m\"\u001b[39m))\n\u001b[0;32m      8\u001b[0m     notasAlunos\u001b[38;5;241m.\u001b[39mappend(nota)\n",
      "\u001b[1;31mIndexError\u001b[0m: list index out of range"
     ]
    }
   ],
   "source": [
    "notasAlunos=[]\n",
    "maior=0\n",
    "menor=10\n",
    "media=0\n",
    "for i in range (1,5):\n",
    "    nota=float(input(\"Digite as notas do aluno: \"))\n",
    "    notasAlunos.append(nota)\n",
    "    if maior<nota:\n",
    "        maior=nota\n",
    "    elif nota<menor:\n",
    "        menor=nota\n",
    "        \n",
    "    media+=nota        \n",
    "\n",
    "print(media/4)\n",
    "print(maior)\n",
    "print(menor)\n",
    "print(notasAlunos)"
   ]
  },
  {
   "cell_type": "code",
   "execution_count": 6,
   "id": "6c02ba42-73b9-4690-a694-9f6ced1aa77c",
   "metadata": {},
   "outputs": [
    {
     "name": "stdout",
     "output_type": "stream",
     "text": [
      "['John', 'Silva', 22, ['Roberto', 'Ronaldo', 'Gil'], ['Jessica']]\n",
      "Ronaldo\n"
     ]
    },
    {
     "data": {
      "text/plain": [
       "'J'"
      ]
     },
     "execution_count": 6,
     "metadata": {},
     "output_type": "execute_result"
    }
   ],
   "source": [
    "lista=[\"John\",\"Silva\",22,['Roberto','Ronaldo','Gil'],['Jessica']]\n",
    "print(lista)\n",
    "print(lista[3][1])\n",
    "lista[4][0][0]"
   ]
  },
  {
   "cell_type": "code",
   "execution_count": 18,
   "id": "e3c6df29-48ce-45b5-9990-619106b33078",
   "metadata": {},
   "outputs": [
    {
     "data": {
      "text/plain": [
       "'Jerssica'"
      ]
     },
     "execution_count": 18,
     "metadata": {},
     "output_type": "execute_result"
    }
   ],
   "source": [
    "dicionario={\"nome\":[\"pablo\",\"carlos\"],\n",
    "           'irmaos':[{'nome':'Jerssica','idade':32},{'nome':'Talysson','idade':14}]}\n",
    "dicionario[\"irmaos\"][0]['nome']"
   ]
  },
  {
   "cell_type": "code",
   "execution_count": 23,
   "id": "c15085af-48a6-44d7-9b84-1eb5ba92875b",
   "metadata": {},
   "outputs": [
    {
     "name": "stdin",
     "output_type": "stream",
     "text": [
      "Qual sorvete voce quer? Casquinha|Cascão|Cestinha casquinha\n",
      "Qual é a cobertura?Chocolate|Morango|Creme creme\n",
      "E a cobertura? Chocolate|Morango|Creme  creme\n"
     ]
    },
    {
     "name": "stdout",
     "output_type": "stream",
     "text": [
      "1.5\n"
     ]
    }
   ],
   "source": [
    "## Exercicio do sorvete com dicionario\n",
    "soma=0\n",
    "tiposorv=str(input(\"Qual sorvete voce quer? Casquinha|Cascão|Cestinha\")).lower()\n",
    "sabor=str(input(\"Qual é a cobertura?Chocolate|Morango|Creme\")).lower()\n",
    "cobertura=str(input(\"E a cobertura? Chocolate|Morango|Creme \")).lower()\n",
    "\n",
    "sorvete={'casquinha':1.5,\n",
    "        'cascao':2.5,\n",
    "        'cestinha':5.0}\n",
    "\n",
    "if tiposorv in sorvete:\n",
    "    soma+=sorvete[tiposorv]\n",
    "else:\n",
    "    print(\"Digite um valor valido\")\n",
    "\n",
    "print(sorvete[tiposorv])\n"
   ]
  },
  {
   "cell_type": "code",
   "execution_count": 20,
   "id": "3c2dcb4c-b8d6-44b1-8766-ca4fa36d09cb",
   "metadata": {},
   "outputs": [
    {
     "name": "stdin",
     "output_type": "stream",
     "text": [
      "Entre com um numero:  safacxax\n"
     ]
    },
    {
     "name": "stdout",
     "output_type": "stream",
     "text": [
      "Escreva um numero inteiro\n"
     ]
    },
    {
     "name": "stdin",
     "output_type": "stream",
     "text": [
      "Entre com um numero:  13\n"
     ]
    },
    {
     "name": "stdout",
     "output_type": "stream",
     "text": [
      "Voce acertou. Parabens\n",
      "Foi em 1 tentativas\n"
     ]
    }
   ],
   "source": [
    "tentativas=1\n",
    "while True:\n",
    "    try:\n",
    "        numero=int(input(\"Entre com um numero: \"))\n",
    "    except:\n",
    "        print(\"Escreva um numero inteiro\")\n",
    "        continue\n",
    "    numero_sorteado=13\n",
    "    if numero==numero_sorteado:\n",
    "        print(\"Voce acertou. Parabens\")\n",
    "        print(f'Foi em {tentativas} tentativas')\n",
    "        break\n",
    "    else: \n",
    "        if numero>numero_sorteado:\n",
    "            print(\"O numero que voce digitou é maior\")\n",
    "            tentativas+=1\n",
    "        else:\n",
    "            print(\"O numero que voce digitou é menor\")\n",
    "            tentativas+=1"
   ]
  },
  {
   "cell_type": "code",
   "execution_count": 12,
   "id": "e0c95a07-dd0e-42d2-bd6f-70a82b672498",
   "metadata": {},
   "outputs": [
    {
     "name": "stdout",
     "output_type": "stream",
     "text": [
      "1\n",
      "2\n",
      "3 Buzz\n",
      "4\n",
      "5 Fizz\n",
      "6 Buzz\n",
      "7\n",
      "8\n",
      "9 Buzz\n",
      "10 Fizz\n",
      "11\n",
      "12 Buzz\n",
      "13\n",
      "14\n",
      "15 FizzBuzz\n",
      "16\n",
      "17\n",
      "18 Buzz\n",
      "19\n",
      "20 Fizz\n",
      "21 Buzz\n",
      "22\n",
      "23\n",
      "24 Buzz\n",
      "25 Fizz\n",
      "26\n",
      "27 Buzz\n",
      "28\n",
      "29\n",
      "30 FizzBuzz\n",
      "31\n",
      "32\n",
      "33 Buzz\n",
      "34\n",
      "35 Fizz\n",
      "36 Buzz\n",
      "37\n",
      "38\n",
      "39 Buzz\n",
      "40 Fizz\n",
      "41\n",
      "42 Buzz\n",
      "43\n",
      "44\n",
      "45 FizzBuzz\n",
      "46\n",
      "47\n",
      "48 Buzz\n",
      "49\n",
      "50 Fizz\n",
      "51 Buzz\n",
      "52\n",
      "53\n",
      "54 Buzz\n",
      "55 Fizz\n",
      "56\n",
      "57 Buzz\n",
      "58\n",
      "59\n",
      "60 FizzBuzz\n",
      "61\n",
      "62\n",
      "63 Buzz\n",
      "64\n",
      "65 Fizz\n",
      "66 Buzz\n",
      "67\n",
      "68\n",
      "69 Buzz\n",
      "70 Fizz\n",
      "71\n",
      "72 Buzz\n",
      "73\n",
      "74\n",
      "75 FizzBuzz\n",
      "76\n",
      "77\n",
      "78 Buzz\n",
      "79\n",
      "80 Fizz\n",
      "81 Buzz\n",
      "82\n",
      "83\n",
      "84 Buzz\n",
      "85 Fizz\n",
      "86\n",
      "87 Buzz\n",
      "88\n",
      "89\n",
      "90 FizzBuzz\n",
      "91\n",
      "92\n",
      "93 Buzz\n",
      "94\n",
      "95 Fizz\n",
      "96 Buzz\n",
      "97\n",
      "98\n",
      "99 Buzz\n"
     ]
    }
   ],
   "source": [
    "for i in range(1,100):\n",
    "    if  i%3==0 and i%5==0:\n",
    "        print(f'{i} FizzBuzz')\n",
    "    elif i%3==0:\n",
    "        print(f'{i} Buzz')\n",
    "    elif i%5==0:\n",
    "        print(f'{i} Fizz')\n",
    "    else:\n",
    "        print(i)"
   ]
  },
  {
   "cell_type": "code",
   "execution_count": 43,
   "id": "6f69691a-0b8a-497d-afd7-77988b5f2175",
   "metadata": {},
   "outputs": [
    {
     "name": "stdout",
     "output_type": "stream",
     "text": [
      "9\n",
      "O maior 1984 nummero esta na posição 4\n",
      "O menor numero -178 está na posicao 8\n"
     ]
    }
   ],
   "source": [
    "lista=[123, 435, 987, 1984, 2, 19, 423, -178, 320]\n",
    "menor=lista[0]\n",
    "maior=lista[0]\n",
    "posicaoMaior=0\n",
    "posicaoMenor=0\n",
    "indice=1\n",
    "\n",
    "print(len(lista))\n",
    "for i in lista:\n",
    "    if i>maior:\n",
    "        maior=i\n",
    "        posicaoMaior=indice\n",
    "    if menor>i:\n",
    "        menor=i\n",
    "        posicaoMenor=indice\n",
    "    \n",
    "    indice+=1\n",
    "\n",
    "print(f'O maior {maior} nummero esta na posição {posicaoMaior}')\n",
    "print(f'O menor numero {menor} está na posicao {posicaoMenor}')"
   ]
  },
  {
   "cell_type": "code",
   "execution_count": 52,
   "id": "cc09cc60-390e-40c1-83b0-8e21acd25e8e",
   "metadata": {},
   "outputs": [
    {
     "name": "stdout",
     "output_type": "stream",
     "text": [
      "Digite 5 numeros\n"
     ]
    },
    {
     "name": "stdin",
     "output_type": "stream",
     "text": [
      "Digite o 1 numero:  xwxw\n"
     ]
    },
    {
     "name": "stdout",
     "output_type": "stream",
     "text": [
      "Digite um numero valido por favor\n",
      "Digite 5 numeros\n"
     ]
    },
    {
     "name": "stdin",
     "output_type": "stream",
     "text": [
      "Digite o 1 numero:  5\n"
     ]
    },
    {
     "name": "stdout",
     "output_type": "stream",
     "text": [
      "[5]\n",
      "Digite 5 numeros\n"
     ]
    },
    {
     "name": "stdin",
     "output_type": "stream",
     "text": [
      "Digite o 2 numero:  4\n"
     ]
    },
    {
     "name": "stdout",
     "output_type": "stream",
     "text": [
      "[5, 4]\n",
      "Digite 5 numeros\n"
     ]
    },
    {
     "name": "stdin",
     "output_type": "stream",
     "text": [
      "Digite o 3 numero:  5\n"
     ]
    },
    {
     "name": "stdout",
     "output_type": "stream",
     "text": [
      "[5, 4, 5]\n",
      "Digite 5 numeros\n"
     ]
    },
    {
     "name": "stdin",
     "output_type": "stream",
     "text": [
      "Digite o 4 numero:  7\n"
     ]
    },
    {
     "name": "stdout",
     "output_type": "stream",
     "text": [
      "[5, 4, 5, 7]\n",
      "Digite 5 numeros\n"
     ]
    },
    {
     "name": "stdin",
     "output_type": "stream",
     "text": [
      "Digite o 5 numero:  8\n"
     ]
    },
    {
     "name": "stdout",
     "output_type": "stream",
     "text": [
      "[5, 4, 5, 7, 8]\n",
      "O numero 5 apareceu 2 vez na lista\n"
     ]
    }
   ],
   "source": [
    "lista=[]\n",
    "numesc=5\n",
    "numerodevezes=0\n",
    "for i in range(5):\n",
    "    while True:\n",
    "        try:\n",
    "            print(\"Digite 5 numeros\")\n",
    "            numero=int(input(f'Digite o {i+1} numero: '))\n",
    "            lista.append(numero)\n",
    "            if numero==numesc:\n",
    "                numerodevezes+=1\n",
    "            print(lista)\n",
    "            break\n",
    "        except ValueError:\n",
    "            print(\"Digite um numero valido por favor\")\n",
    "        \n",
    "\n",
    "print(f'O numero {numesc} apareceu {numerodevezes} vez na lista')"
   ]
  },
  {
   "cell_type": "code",
   "execution_count": 59,
   "id": "76439407-a6b6-46c1-84a7-e8c8b2de3536",
   "metadata": {},
   "outputs": [
    {
     "name": "stdin",
     "output_type": "stream",
     "text": [
      "Digite uma palavra:  radar\n"
     ]
    },
    {
     "name": "stdout",
     "output_type": "stream",
     "text": [
      "A palavra radar é um palindromo\n"
     ]
    }
   ],
   "source": [
    "palavra=str(input(\"Digite uma palavra: \"))\n",
    "\n",
    "if palavra[:]==palavra[::-1]:\n",
    "    print(f'A palavra {palavra} é um palindromo')\n",
    "else:\n",
    "    print(\"Não é um palindromo\")"
   ]
  },
  {
   "cell_type": "code",
   "execution_count": 64,
   "id": "46cd76fc-8b68-4161-bde7-ae8f9837af71",
   "metadata": {},
   "outputs": [
    {
     "name": "stdin",
     "output_type": "stream",
     "text": [
      "Digite um caracter:  \\\n",
      "Digite um caracter:  z\n",
      "Digite um caracter:  x\n",
      "Digite um caracter:  c\n",
      "Digite um caracter:  a\n",
      "Digite um caracter:  a\n",
      "Digite um caracter:  a\n",
      "Digite um caracter:  a\n",
      "Digite um caracter:  a\n",
      "Digite um caracter:  a\n"
     ]
    },
    {
     "name": "stdout",
     "output_type": "stream",
     "text": [
      "['\\\\', 'z', 'x', 'c']\n"
     ]
    }
   ],
   "source": [
    "lista=[]\n",
    "vogais=['a','e','i','o','u']\n",
    "consoantes=[]\n",
    "\n",
    "for i in range(1,11):\n",
    "        letra=input(\"Digite um caracter: \")\n",
    "        lista.append(letra)\n",
    "        if letra not in vogais:\n",
    "          consoantes.append(letra)\n",
    "\n",
    "print(consoantes)"
   ]
  },
  {
   "cell_type": "code",
   "execution_count": 75,
   "id": "cd7861ad-929b-4b68-9dc9-220348de983c",
   "metadata": {},
   "outputs": [
    {
     "name": "stdin",
     "output_type": "stream",
     "text": [
      "Digite um numero:  5\n"
     ]
    },
    {
     "name": "stdout",
     "output_type": "stream",
     "text": [
      "5\n"
     ]
    },
    {
     "name": "stdin",
     "output_type": "stream",
     "text": [
      "Digite um numero:  4\n"
     ]
    },
    {
     "name": "stdout",
     "output_type": "stream",
     "text": [
      "20\n"
     ]
    },
    {
     "name": "stdin",
     "output_type": "stream",
     "text": [
      "Digite um numero:  1\n"
     ]
    },
    {
     "name": "stdout",
     "output_type": "stream",
     "text": [
      "20\n"
     ]
    },
    {
     "name": "stdin",
     "output_type": "stream",
     "text": [
      "Digite um numero:  2\n"
     ]
    },
    {
     "name": "stdout",
     "output_type": "stream",
     "text": [
      "40\n"
     ]
    },
    {
     "name": "stdin",
     "output_type": "stream",
     "text": [
      "Digite um numero:  3\n"
     ]
    },
    {
     "name": "stdout",
     "output_type": "stream",
     "text": [
      "120\n",
      "15\n",
      "120\n",
      "[5, 4, 1, 2, 3]\n"
     ]
    }
   ],
   "source": [
    "listanum=[]\n",
    "soma=0\n",
    "multiplicacao=1\n",
    "for cont in range(1,6):\n",
    "    while True:\n",
    "       try: \n",
    "            numero=int(input(\"Digite um numero: \"))\n",
    "            listanum.append(numero)\n",
    "            soma+=numero\n",
    "            multiplicacao*=numero\n",
    "            print(multiplicacao)\n",
    "            break\n",
    "       except ValueError:\n",
    "           print(\"digite um numero\")\n",
    "    \n",
    "print(soma)\n",
    "print(multiplicacao)\n",
    "print(listanum)"
   ]
  },
  {
   "cell_type": "code",
   "execution_count": 114,
   "id": "32f5fab2-f53b-47b5-b7a4-9d5d06f04751",
   "metadata": {},
   "outputs": [
    {
     "name": "stdout",
     "output_type": "stream",
     "text": [
      "[1, 2, 3, 4, 5, 6, 7, 8, 9, 10, 11, 12, 13, 14, 15, 16, 17, 18, 19, 20]\n"
     ]
    }
   ],
   "source": [
    "lista1=[1,3,5,7,9,11,13,15,17,19]\n",
    "lista2=[2,4,6,8,10,12,14,16,18,20]\n",
    "lista3=[]\n",
    " # Chat ajudou falando que é pelo TAMANHO DA LISTA UTILIZANDO O LEN\n",
    "i=0\n",
    "\n",
    "for i in range (len(lista1)):\n",
    "    lista3.append(lista1[i])\n",
    "    lista3.append(lista2[i])\n",
    " \n",
    "    \n",
    "\n",
    "print(lista3)"
   ]
  },
  {
   "cell_type": "code",
   "execution_count": 149,
   "id": "20b6d5e0-8929-4d9a-940e-17a5fe2e0aec",
   "metadata": {},
   "outputs": [
    {
     "name": "stdout",
     "output_type": "stream",
     "text": [
      "1.82\n",
      "1.74\n",
      "1.74\n",
      "1.62\n",
      "1.62\n",
      "2.0\n",
      "1.76\n",
      "1.76\n",
      "1.58\n",
      "1.58\n",
      "1.76\n",
      "1.76\n",
      "1.57\n",
      "1.57\n",
      "1.93\n",
      "1.91\n",
      "1.7\n",
      "1.7\n",
      "1.79\n",
      "1.83\n",
      "1.52\n",
      "1.52\n",
      "1.87\n",
      "1.85\n",
      "1.84\n",
      "1.76\n",
      "1.76\n",
      "2.0\n",
      "1.97\n",
      "1.74\n",
      "1.74\n",
      "1.8\n",
      "1.58\n",
      "1.58\n",
      "1.79\n",
      "1.53\n",
      "1.53\n",
      "1.77\n",
      "1.77\n",
      "1.99\n",
      "1.8\n",
      "1.77\n",
      "1.77\n",
      "1.84\n",
      "1.781\n",
      "14\n"
     ]
    }
   ],
   "source": [
    "idades = [random.randint(10,18) for _ in range(30)]\n",
    "altura=[round(random.uniform(1.5,2.0),2) for _ in range(30)]\n",
    "soma=sum(altura)\n",
    "mediaAlt=soma/len(altura)\n",
    "qtdaAlunos=0\n",
    "\n",
    "for i in range(len(altura)):\n",
    "    soma+=altura[i]\n",
    "    print(altura[i])\n",
    "    if altura[i]<mediaAlt:\n",
    "        print(altura[i])\n",
    "        qtdaAlunos+=1\n",
    "\n",
    "print(mediaAlt)\n",
    "print(qtdaAlunos)"
   ]
  },
  {
   "cell_type": "code",
   "execution_count": 154,
   "id": "4442a338-a6fc-45fd-9371-4fe43f1e0f54",
   "metadata": {},
   "outputs": [
    {
     "name": "stdin",
     "output_type": "stream",
     "text": [
      "Entre com um numero:  4\n"
     ]
    },
    {
     "data": {
      "text/plain": [
       "14"
      ]
     },
     "execution_count": 154,
     "metadata": {},
     "output_type": "execute_result"
    }
   ],
   "source": [
    "numero=int(input(\"Entre com um numero: \"))\n",
    "\n",
    "def somar(numero):\n",
    "    soma=numero+10\n",
    "    return soma\n",
    "\n",
    "\n",
    "\n",
    "somar(numero)"
   ]
  },
  {
   "cell_type": "code",
   "execution_count": 158,
   "id": "37597fd4-98f7-4eb9-baa0-cd675db21d85",
   "metadata": {},
   "outputs": [
    {
     "name": "stdin",
     "output_type": "stream",
     "text": [
      "Digite um numero:  4\n",
      "Digite outro:  8\n"
     ]
    },
    {
     "name": "stdout",
     "output_type": "stream",
     "text": [
      "4\n"
     ]
    },
    {
     "data": {
      "text/plain": [
       "12"
      ]
     },
     "execution_count": 158,
     "metadata": {},
     "output_type": "execute_result"
    }
   ],
   "source": [
    "numero1=int(input(\"Digite um numero: \"))\n",
    "numero2=int(input(\"Digite outro: \"))\n",
    "\n",
    "def somaDois(num1,num2):\n",
    "    print(num1)\n",
    "    somar=num1+num2\n",
    "    return somar\n",
    "\n",
    "somaDois(numero1,numero2) "
   ]
  },
  {
   "cell_type": "markdown",
   "id": "9f568e78-43af-4ba4-9f95-0952b1a4b7fa",
   "metadata": {},
   "source": [
    "# Fazer depois"
   ]
  },
  {
   "cell_type": "code",
   "execution_count": 184,
   "id": "c6e034dd-a716-4edd-a765-b1dc8343f07d",
   "metadata": {},
   "outputs": [
    {
     "name": "stdin",
     "output_type": "stream",
     "text": [
      "Digite um numero:  5\n",
      "Digite um numero:  56\n"
     ]
    },
    {
     "name": "stdout",
     "output_type": "stream",
     "text": [
      "O numero é menor\n"
     ]
    },
    {
     "name": "stdin",
     "output_type": "stream",
     "text": [
      "Digite um numero:  5\n"
     ]
    },
    {
     "name": "stdout",
     "output_type": "stream",
     "text": [
      "O numero é menor\n"
     ]
    },
    {
     "name": "stdin",
     "output_type": "stream",
     "text": [
      "Digite um numero:  5\n"
     ]
    },
    {
     "name": "stdout",
     "output_type": "stream",
     "text": [
      "O numero é menor\n"
     ]
    }
   ],
   "source": [
    "def pedirNum():\n",
    "    while True:\n",
    "        try:\n",
    "            numero=int(input(\"Digite um numero: \"))\n",
    "            return numero\n",
    "        except ValueError:\n",
    "            print('Digite um numero: ')\n",
    "\n",
    "        \n",
    "\n",
    "\n",
    "def verificar(x):\n",
    "    numero_sorte=10\n",
    "    if x==numero_sorte:\n",
    "        print(\"O numero digitado está correto\")\n",
    "    elif x>numero_sorte:\n",
    "        print(\"O numero digitado é maior\")\n",
    "    else:\n",
    "        print(\"O numero é menor\")\n",
    "\n",
    "\n",
    "def looping(numero):\n",
    "    for i in range(1,4):\n",
    "        pedirNum()\n",
    "        verificar(numero)\n",
    "\n",
    "\n",
    "\n",
    "numero=pedirNum()\n",
    "looping()"
   ]
  },
  {
   "cell_type": "code",
   "execution_count": 191,
   "id": "6a2f5c0d-ba5a-4ec8-acab-6b45ecb00d5b",
   "metadata": {},
   "outputs": [
    {
     "name": "stdin",
     "output_type": "stream",
     "text": [
      "Digite um numero:  5\n",
      "Digite um numero:  4\n",
      "Digite um numero:  1\n"
     ]
    },
    {
     "name": "stdout",
     "output_type": "stream",
     "text": [
      "[5, 4, 1]\n"
     ]
    },
    {
     "data": {
      "text/plain": [
       "10"
      ]
     },
     "execution_count": 191,
     "metadata": {},
     "output_type": "execute_result"
    }
   ],
   "source": [
    "def somar(numeros):\n",
    "    print(numeros)\n",
    "    resultado=sum(numeros)\n",
    "    return resultado\n",
    "\n",
    "lista=[]\n",
    "for i in range(0,3):\n",
    "    numero=int(input(\"Digite um numero: \"))\n",
    "    lista.append(numero)\n",
    "\n",
    "somar(lista)"
   ]
  },
  {
   "cell_type": "code",
   "execution_count": 203,
   "id": "2f131d86-0b56-40d8-bd50-a1a60aa1b8ed",
   "metadata": {},
   "outputs": [
    {
     "name": "stdin",
     "output_type": "stream",
     "text": [
      "Entre com um valor:  0\n"
     ]
    },
    {
     "name": "stdout",
     "output_type": "stream",
     "text": [
      "0\n"
     ]
    },
    {
     "data": {
      "text/plain": [
       "'N'"
      ]
     },
     "execution_count": 203,
     "metadata": {},
     "output_type": "execute_result"
    }
   ],
   "source": [
    "def verificaP():\n",
    "    numero=int(input(\"Entre com um valor: \"))\n",
    "    return numero\n",
    "\n",
    "def se(numero):\n",
    "    if numero>0:\n",
    "        return \"P\"\n",
    "    elif numero<=0:\n",
    "        return \"N\"\n",
    "\n",
    "\n",
    "\n",
    "numero=verificaP()\n",
    "print(numero)\n",
    "se(numero)"
   ]
  },
  {
   "cell_type": "code",
   "execution_count": 230,
   "id": "00255c58-89ae-440e-9d9b-4f4b9bcebac9",
   "metadata": {},
   "outputs": [
    {
     "name": "stdin",
     "output_type": "stream",
     "text": [
      "Quanto custou o produto:  100\n",
      "Quanto de imposto:  20\n"
     ]
    },
    {
     "name": "stdout",
     "output_type": "stream",
     "text": [
      "100\n",
      "20\n",
      "O valor total do produto ja com o imposto é de 120.0 sendo 20.0 reais de imposto\n"
     ]
    }
   ],
   "source": [
    "def pergunta():\n",
    "    custoP=int(input(\"Quanto custou o produto: \"))\n",
    "    return custoP\n",
    "    \n",
    "def perguntaimposto():\n",
    "      taxaImposto=int(input(\"Quanto de imposto: \"))\n",
    "      return taxaImposto\n",
    "\n",
    "def somaImposto(custo,taxaImposto):\n",
    "    porcentagem=(taxaImposto/100)*custo\n",
    "    valorTot=custo+porcentagem\n",
    "    return valorTot,porcentagem\n",
    "\n",
    "\n",
    "\n",
    "\n",
    "\n",
    "custo=pergunta()\n",
    "imposto=perguntaimposto()\n",
    "print(custo)\n",
    "print(imposto)\n",
    "resultado=somaImposto(custo,imposto)\n",
    "\n",
    "print(f'O valor total do produto ja com o imposto é de {resultado[0]} sendo {resultado[1]} reais de imposto')"
   ]
  },
  {
   "cell_type": "code",
   "execution_count": 248,
   "id": "a41d9d35-91c1-44d5-b492-6fccf82070cd",
   "metadata": {},
   "outputs": [
    {
     "name": "stdin",
     "output_type": "stream",
     "text": [
      "Digite o valor da prestação:  1000\n",
      "Quantos dias estao atrasados:  0\n"
     ]
    },
    {
     "ename": "TypeError",
     "evalue": "looping() missing 1 required positional argument: 'valorAPagar'",
     "output_type": "error",
     "traceback": [
      "\u001b[1;31m---------------------------------------------------------------------------\u001b[0m",
      "\u001b[1;31mTypeError\u001b[0m                                 Traceback (most recent call last)",
      "Cell \u001b[1;32mIn[248], line 14\u001b[0m\n\u001b[0;32m     12\u001b[0m valorAPagar\u001b[38;5;241m=\u001b[39mrecebeafuncao[\u001b[38;5;241m0\u001b[39m]\n\u001b[0;32m     13\u001b[0m diasdeatraso\u001b[38;5;241m=\u001b[39mrecebeafuncao[\u001b[38;5;241m-\u001b[39m\u001b[38;5;241m1\u001b[39m]\n\u001b[1;32m---> 14\u001b[0m looping()\n",
      "\u001b[1;31mTypeError\u001b[0m: looping() missing 1 required positional argument: 'valorAPagar'"
     ]
    }
   ],
   "source": []
  },
  {
   "cell_type": "code",
   "execution_count": null,
   "id": "915951e5-860e-4303-9146-fd9b3d146b24",
   "metadata": {},
   "outputs": [],
   "source": []
  }
 ],
 "metadata": {
  "kernelspec": {
   "display_name": "Python 3 (ipykernel)",
   "language": "python",
   "name": "python3"
  },
  "language_info": {
   "codemirror_mode": {
    "name": "ipython",
    "version": 3
   },
   "file_extension": ".py",
   "mimetype": "text/x-python",
   "name": "python",
   "nbconvert_exporter": "python",
   "pygments_lexer": "ipython3",
   "version": "3.12.4"
  }
 },
 "nbformat": 4,
 "nbformat_minor": 5
}
